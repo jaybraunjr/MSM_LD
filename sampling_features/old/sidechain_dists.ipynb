{
 "cells": [
  {
   "cell_type": "code",
   "execution_count": 1,
   "id": "50659a08",
   "metadata": {},
   "outputs": [],
   "source": [
    "import itertools\n",
    "import numpy as np\n",
    "import pandas as pd\n",
    "import MDAnalysis as mda\n",
    "import matplotlib as mpl\n",
    "import matplotlib.pyplot as plt\n",
    "import mdtraj as md\n",
    "import pyemma\n",
    "from pyemma.coordinates import source\n",
    "from pyemma.util.contexts import settings\n",
    "from pyemma.coordinates.data.featurization.misc import GroupCOMFeature\n",
    "import sys\n",
    "sys.path.insert(0, '../')\n",
    "import featurize.featurize_v2 as feat_\n",
    "import featurize.caller_v2 as caller\n"
   ]
  },
  {
   "cell_type": "code",
   "execution_count": null,
   "id": "4efd20fc",
   "metadata": {},
   "outputs": [],
   "source": [
    "import os\n",
    "\n",
    "path = '../../dev/'\n",
    "files = [os.path.join(path, f) for f in os.listdir(path) if f.endswith('.xtc')]\n",
    "\n",
    "for file in files:\n",
    "    print(file)\n"
   ]
  }
 ],
 "metadata": {
  "kernelspec": {
   "display_name": "Python 3 (ipykernel)",
   "language": "python",
   "name": "python3"
  },
  "language_info": {
   "codemirror_mode": {
    "name": "ipython",
    "version": 3
   },
   "file_extension": ".py",
   "mimetype": "text/x-python",
   "name": "python",
   "nbconvert_exporter": "python",
   "pygments_lexer": "ipython3",
   "version": "3.9.16"
  }
 },
 "nbformat": 4,
 "nbformat_minor": 5
}
